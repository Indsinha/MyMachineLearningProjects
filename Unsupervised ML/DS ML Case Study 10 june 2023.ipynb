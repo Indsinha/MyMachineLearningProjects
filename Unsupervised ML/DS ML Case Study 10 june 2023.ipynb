{
 "cells": [
  {
   "cell_type": "markdown",
   "id": "264892ef",
   "metadata": {},
   "source": [
    "# Pizza case study - submission by Diwakar Sinha\n",
    "## Q1 ) the ideal no of components the features can be reduced to\n",
    "\n",
    "we use PCA to solve this question\n",
    "\n",
    "The main idea behind PCA is to identify the directions in the data along which it varies the most. These directions are called principal components. The first principal component captures the largest possible variance in the data, and each subsequent component captures the remaining variance in descending order. In this way, PCA provides a way to rank the features or variables based on their importance in explaining the variability of the data.\n",
    "\n",
    "PCA works by computing the eigenvectors and eigenvalues of the covariance matrix of the data. The eigenvectors represent the principal components, while the corresponding eigenvalues indicate the amount of variance explained by each component. By selecting a subset of the principal components, we can reduce the dimensionality of the data while retaining most of the information.\n",
    "\n",
    "The reduced-dimensional representation obtained through PCA can be useful for various purposes. It can help visualize high-dimensional data in two or three dimensions, identify important features or variables, remove redundant or noisy features, and improve computational efficiency in subsequent analysis tasks."
   ]
  },
  {
   "cell_type": "markdown",
   "id": "4082779e",
   "metadata": {},
   "source": [
    "To determine the ideal number of components for our analysis, we will follow these steps:\n",
    "\n",
    "* 1) Standardize the data: Before performing PCA, it is important to standardize the variables so that they have a mean of 0 and a standard deviation of 1. This ensures that all variables are on the same scale.\n",
    "\n",
    "* 2) Perform PCA: Apply PCA to the standardized data. This will produce a set of principal components, which are linear combinations of the original variables.\n",
    "\n",
    "* 3) Check the explained variance: Examine the amount of variance explained by each principal component. The explained variance tells you how much information is retained by each component.\n",
    "\n",
    "* 4) we will plot a scree plot or cumulative explained variance plot to visualize the explained variance for each component.\n",
    "\n",
    "* 5) Determine the number of components: Look for the elbow point in the scree plot or the point where the cumulative explained variance reaches a satisfactory level."
   ]
  },
  {
   "cell_type": "code",
   "execution_count": 1,
   "id": "62270770",
   "metadata": {},
   "outputs": [],
   "source": [
    "# Importing libraries\n",
    "import pandas as pd\n",
    "import numpy as np\n",
    "import matplotlib.pyplot as plt\n",
    "from sklearn.preprocessing import StandardScaler\n",
    "from sklearn.decomposition import PCA"
   ]
  },
  {
   "cell_type": "code",
   "execution_count": 2,
   "id": "28ef5125",
   "metadata": {},
   "outputs": [
    {
     "data": {
      "text/html": [
       "<div>\n",
       "<style scoped>\n",
       "    .dataframe tbody tr th:only-of-type {\n",
       "        vertical-align: middle;\n",
       "    }\n",
       "\n",
       "    .dataframe tbody tr th {\n",
       "        vertical-align: top;\n",
       "    }\n",
       "\n",
       "    .dataframe thead th {\n",
       "        text-align: right;\n",
       "    }\n",
       "</style>\n",
       "<table border=\"1\" class=\"dataframe\">\n",
       "  <thead>\n",
       "    <tr style=\"text-align: right;\">\n",
       "      <th></th>\n",
       "      <th>brand</th>\n",
       "      <th>id</th>\n",
       "      <th>mois</th>\n",
       "      <th>prot</th>\n",
       "      <th>fat</th>\n",
       "      <th>ash</th>\n",
       "      <th>sodium</th>\n",
       "      <th>carb</th>\n",
       "      <th>cal</th>\n",
       "    </tr>\n",
       "  </thead>\n",
       "  <tbody>\n",
       "    <tr>\n",
       "      <th>0</th>\n",
       "      <td>A</td>\n",
       "      <td>14069</td>\n",
       "      <td>27.82</td>\n",
       "      <td>21.43</td>\n",
       "      <td>44.87</td>\n",
       "      <td>5.11</td>\n",
       "      <td>1.77</td>\n",
       "      <td>0.77</td>\n",
       "      <td>4.93</td>\n",
       "    </tr>\n",
       "    <tr>\n",
       "      <th>1</th>\n",
       "      <td>A</td>\n",
       "      <td>14053</td>\n",
       "      <td>28.49</td>\n",
       "      <td>21.26</td>\n",
       "      <td>43.89</td>\n",
       "      <td>5.34</td>\n",
       "      <td>1.79</td>\n",
       "      <td>1.02</td>\n",
       "      <td>4.84</td>\n",
       "    </tr>\n",
       "    <tr>\n",
       "      <th>2</th>\n",
       "      <td>A</td>\n",
       "      <td>14025</td>\n",
       "      <td>28.35</td>\n",
       "      <td>19.99</td>\n",
       "      <td>45.78</td>\n",
       "      <td>5.08</td>\n",
       "      <td>1.63</td>\n",
       "      <td>0.80</td>\n",
       "      <td>4.95</td>\n",
       "    </tr>\n",
       "    <tr>\n",
       "      <th>3</th>\n",
       "      <td>A</td>\n",
       "      <td>14016</td>\n",
       "      <td>30.55</td>\n",
       "      <td>20.15</td>\n",
       "      <td>43.13</td>\n",
       "      <td>4.79</td>\n",
       "      <td>1.61</td>\n",
       "      <td>1.38</td>\n",
       "      <td>4.74</td>\n",
       "    </tr>\n",
       "    <tr>\n",
       "      <th>4</th>\n",
       "      <td>A</td>\n",
       "      <td>14005</td>\n",
       "      <td>30.49</td>\n",
       "      <td>21.28</td>\n",
       "      <td>41.65</td>\n",
       "      <td>4.82</td>\n",
       "      <td>1.64</td>\n",
       "      <td>1.76</td>\n",
       "      <td>4.67</td>\n",
       "    </tr>\n",
       "    <tr>\n",
       "      <th>...</th>\n",
       "      <td>...</td>\n",
       "      <td>...</td>\n",
       "      <td>...</td>\n",
       "      <td>...</td>\n",
       "      <td>...</td>\n",
       "      <td>...</td>\n",
       "      <td>...</td>\n",
       "      <td>...</td>\n",
       "      <td>...</td>\n",
       "    </tr>\n",
       "    <tr>\n",
       "      <th>295</th>\n",
       "      <td>J</td>\n",
       "      <td>34044</td>\n",
       "      <td>44.91</td>\n",
       "      <td>11.07</td>\n",
       "      <td>17.00</td>\n",
       "      <td>2.49</td>\n",
       "      <td>0.66</td>\n",
       "      <td>25.36</td>\n",
       "      <td>2.91</td>\n",
       "    </tr>\n",
       "    <tr>\n",
       "      <th>296</th>\n",
       "      <td>J</td>\n",
       "      <td>24069</td>\n",
       "      <td>43.15</td>\n",
       "      <td>11.79</td>\n",
       "      <td>18.46</td>\n",
       "      <td>2.43</td>\n",
       "      <td>0.67</td>\n",
       "      <td>24.17</td>\n",
       "      <td>3.10</td>\n",
       "    </tr>\n",
       "    <tr>\n",
       "      <th>297</th>\n",
       "      <td>J</td>\n",
       "      <td>34039</td>\n",
       "      <td>44.55</td>\n",
       "      <td>11.01</td>\n",
       "      <td>16.03</td>\n",
       "      <td>2.43</td>\n",
       "      <td>0.64</td>\n",
       "      <td>25.98</td>\n",
       "      <td>2.92</td>\n",
       "    </tr>\n",
       "    <tr>\n",
       "      <th>298</th>\n",
       "      <td>J</td>\n",
       "      <td>14044</td>\n",
       "      <td>47.60</td>\n",
       "      <td>10.43</td>\n",
       "      <td>15.18</td>\n",
       "      <td>2.32</td>\n",
       "      <td>0.56</td>\n",
       "      <td>24.47</td>\n",
       "      <td>2.76</td>\n",
       "    </tr>\n",
       "    <tr>\n",
       "      <th>299</th>\n",
       "      <td>J</td>\n",
       "      <td>14045</td>\n",
       "      <td>46.84</td>\n",
       "      <td>9.91</td>\n",
       "      <td>15.50</td>\n",
       "      <td>2.27</td>\n",
       "      <td>0.57</td>\n",
       "      <td>25.48</td>\n",
       "      <td>2.81</td>\n",
       "    </tr>\n",
       "  </tbody>\n",
       "</table>\n",
       "<p>300 rows × 9 columns</p>\n",
       "</div>"
      ],
      "text/plain": [
       "    brand     id   mois   prot    fat   ash  sodium   carb   cal\n",
       "0       A  14069  27.82  21.43  44.87  5.11    1.77   0.77  4.93\n",
       "1       A  14053  28.49  21.26  43.89  5.34    1.79   1.02  4.84\n",
       "2       A  14025  28.35  19.99  45.78  5.08    1.63   0.80  4.95\n",
       "3       A  14016  30.55  20.15  43.13  4.79    1.61   1.38  4.74\n",
       "4       A  14005  30.49  21.28  41.65  4.82    1.64   1.76  4.67\n",
       "..    ...    ...    ...    ...    ...   ...     ...    ...   ...\n",
       "295     J  34044  44.91  11.07  17.00  2.49    0.66  25.36  2.91\n",
       "296     J  24069  43.15  11.79  18.46  2.43    0.67  24.17  3.10\n",
       "297     J  34039  44.55  11.01  16.03  2.43    0.64  25.98  2.92\n",
       "298     J  14044  47.60  10.43  15.18  2.32    0.56  24.47  2.76\n",
       "299     J  14045  46.84   9.91  15.50  2.27    0.57  25.48  2.81\n",
       "\n",
       "[300 rows x 9 columns]"
      ]
     },
     "execution_count": 2,
     "metadata": {},
     "output_type": "execute_result"
    }
   ],
   "source": [
    "# load dataset\n",
    "data = pd.read_csv('Pizza.csv')\n",
    "data"
   ]
  },
  {
   "cell_type": "code",
   "execution_count": 3,
   "id": "d4884cfa",
   "metadata": {},
   "outputs": [
    {
     "data": {
      "text/html": [
       "<div>\n",
       "<style scoped>\n",
       "    .dataframe tbody tr th:only-of-type {\n",
       "        vertical-align: middle;\n",
       "    }\n",
       "\n",
       "    .dataframe tbody tr th {\n",
       "        vertical-align: top;\n",
       "    }\n",
       "\n",
       "    .dataframe thead th {\n",
       "        text-align: right;\n",
       "    }\n",
       "</style>\n",
       "<table border=\"1\" class=\"dataframe\">\n",
       "  <thead>\n",
       "    <tr style=\"text-align: right;\">\n",
       "      <th></th>\n",
       "      <th>mois</th>\n",
       "      <th>prot</th>\n",
       "      <th>fat</th>\n",
       "      <th>ash</th>\n",
       "      <th>sodium</th>\n",
       "      <th>carb</th>\n",
       "      <th>cal</th>\n",
       "    </tr>\n",
       "  </thead>\n",
       "  <tbody>\n",
       "    <tr>\n",
       "      <th>0</th>\n",
       "      <td>27.82</td>\n",
       "      <td>21.43</td>\n",
       "      <td>44.87</td>\n",
       "      <td>5.11</td>\n",
       "      <td>1.77</td>\n",
       "      <td>0.77</td>\n",
       "      <td>4.93</td>\n",
       "    </tr>\n",
       "    <tr>\n",
       "      <th>1</th>\n",
       "      <td>28.49</td>\n",
       "      <td>21.26</td>\n",
       "      <td>43.89</td>\n",
       "      <td>5.34</td>\n",
       "      <td>1.79</td>\n",
       "      <td>1.02</td>\n",
       "      <td>4.84</td>\n",
       "    </tr>\n",
       "    <tr>\n",
       "      <th>2</th>\n",
       "      <td>28.35</td>\n",
       "      <td>19.99</td>\n",
       "      <td>45.78</td>\n",
       "      <td>5.08</td>\n",
       "      <td>1.63</td>\n",
       "      <td>0.80</td>\n",
       "      <td>4.95</td>\n",
       "    </tr>\n",
       "    <tr>\n",
       "      <th>3</th>\n",
       "      <td>30.55</td>\n",
       "      <td>20.15</td>\n",
       "      <td>43.13</td>\n",
       "      <td>4.79</td>\n",
       "      <td>1.61</td>\n",
       "      <td>1.38</td>\n",
       "      <td>4.74</td>\n",
       "    </tr>\n",
       "    <tr>\n",
       "      <th>4</th>\n",
       "      <td>30.49</td>\n",
       "      <td>21.28</td>\n",
       "      <td>41.65</td>\n",
       "      <td>4.82</td>\n",
       "      <td>1.64</td>\n",
       "      <td>1.76</td>\n",
       "      <td>4.67</td>\n",
       "    </tr>\n",
       "    <tr>\n",
       "      <th>...</th>\n",
       "      <td>...</td>\n",
       "      <td>...</td>\n",
       "      <td>...</td>\n",
       "      <td>...</td>\n",
       "      <td>...</td>\n",
       "      <td>...</td>\n",
       "      <td>...</td>\n",
       "    </tr>\n",
       "    <tr>\n",
       "      <th>295</th>\n",
       "      <td>44.91</td>\n",
       "      <td>11.07</td>\n",
       "      <td>17.00</td>\n",
       "      <td>2.49</td>\n",
       "      <td>0.66</td>\n",
       "      <td>25.36</td>\n",
       "      <td>2.91</td>\n",
       "    </tr>\n",
       "    <tr>\n",
       "      <th>296</th>\n",
       "      <td>43.15</td>\n",
       "      <td>11.79</td>\n",
       "      <td>18.46</td>\n",
       "      <td>2.43</td>\n",
       "      <td>0.67</td>\n",
       "      <td>24.17</td>\n",
       "      <td>3.10</td>\n",
       "    </tr>\n",
       "    <tr>\n",
       "      <th>297</th>\n",
       "      <td>44.55</td>\n",
       "      <td>11.01</td>\n",
       "      <td>16.03</td>\n",
       "      <td>2.43</td>\n",
       "      <td>0.64</td>\n",
       "      <td>25.98</td>\n",
       "      <td>2.92</td>\n",
       "    </tr>\n",
       "    <tr>\n",
       "      <th>298</th>\n",
       "      <td>47.60</td>\n",
       "      <td>10.43</td>\n",
       "      <td>15.18</td>\n",
       "      <td>2.32</td>\n",
       "      <td>0.56</td>\n",
       "      <td>24.47</td>\n",
       "      <td>2.76</td>\n",
       "    </tr>\n",
       "    <tr>\n",
       "      <th>299</th>\n",
       "      <td>46.84</td>\n",
       "      <td>9.91</td>\n",
       "      <td>15.50</td>\n",
       "      <td>2.27</td>\n",
       "      <td>0.57</td>\n",
       "      <td>25.48</td>\n",
       "      <td>2.81</td>\n",
       "    </tr>\n",
       "  </tbody>\n",
       "</table>\n",
       "<p>300 rows × 7 columns</p>\n",
       "</div>"
      ],
      "text/plain": [
       "      mois   prot    fat   ash  sodium   carb   cal\n",
       "0    27.82  21.43  44.87  5.11    1.77   0.77  4.93\n",
       "1    28.49  21.26  43.89  5.34    1.79   1.02  4.84\n",
       "2    28.35  19.99  45.78  5.08    1.63   0.80  4.95\n",
       "3    30.55  20.15  43.13  4.79    1.61   1.38  4.74\n",
       "4    30.49  21.28  41.65  4.82    1.64   1.76  4.67\n",
       "..     ...    ...    ...   ...     ...    ...   ...\n",
       "295  44.91  11.07  17.00  2.49    0.66  25.36  2.91\n",
       "296  43.15  11.79  18.46  2.43    0.67  24.17  3.10\n",
       "297  44.55  11.01  16.03  2.43    0.64  25.98  2.92\n",
       "298  47.60  10.43  15.18  2.32    0.56  24.47  2.76\n",
       "299  46.84   9.91  15.50  2.27    0.57  25.48  2.81\n",
       "\n",
       "[300 rows x 7 columns]"
      ]
     },
     "execution_count": 3,
     "metadata": {},
     "output_type": "execute_result"
    }
   ],
   "source": [
    "df= data.drop(['brand','id'], axis=1)\n",
    "df"
   ]
  },
  {
   "cell_type": "code",
   "execution_count": 4,
   "id": "ec06bd85",
   "metadata": {},
   "outputs": [],
   "source": [
    "# we see a large value variaion therefore we shall scale the data\n",
    "# Step 1) Normalizing the data using Standarscaler\n",
    "X = StandardScaler().fit_transform(df)"
   ]
  },
  {
   "cell_type": "code",
   "execution_count": 5,
   "id": "e4dc7051",
   "metadata": {},
   "outputs": [
    {
     "data": {
      "text/plain": [
       "array([[-1.37181459,  1.25418127,  2.74984143, ...,  2.97668662,\n",
       "        -1.22751105,  2.68012924],\n",
       "       [-1.30156227,  1.22771661,  2.64047481, ...,  3.03077869,\n",
       "        -1.21362189,  2.53473344],\n",
       "       [-1.31624186,  1.03000998,  2.85139615, ...,  2.59804213,\n",
       "        -1.22584435,  2.71243942],\n",
       "       ...,\n",
       "       [ 0.3823963 , -0.36794707, -0.46866201, ..., -0.07951534,\n",
       "         0.1730719 , -0.56704362],\n",
       "       [ 0.70220164, -0.45823828, -0.56352082, ..., -0.29588362,\n",
       "         0.08918137, -0.82552504],\n",
       "       [ 0.62251244, -0.53918903, -0.52780927, ..., -0.26883759,\n",
       "         0.14529358, -0.7447496 ]])"
      ]
     },
     "execution_count": 5,
     "metadata": {},
     "output_type": "execute_result"
    }
   ],
   "source": [
    "X"
   ]
  },
  {
   "cell_type": "code",
   "execution_count": 6,
   "id": "e625f142",
   "metadata": {},
   "outputs": [
    {
     "data": {
      "text/plain": [
       "PCA()"
      ]
     },
     "execution_count": 6,
     "metadata": {},
     "output_type": "execute_result"
    }
   ],
   "source": [
    "# step 2) Perform PCA\n",
    "pca = PCA()\n",
    "pca.fit(X)"
   ]
  },
  {
   "cell_type": "code",
   "execution_count": 7,
   "id": "ce7529f8",
   "metadata": {},
   "outputs": [
    {
     "data": {
      "text/plain": [
       "array([5.95968842e-01, 3.27208198e-01, 5.92231918e-02, 1.35963182e-02,\n",
       "       3.95385973e-03, 4.82299078e-05, 1.35982576e-06])"
      ]
     },
     "execution_count": 7,
     "metadata": {},
     "output_type": "execute_result"
    }
   ],
   "source": [
    "# step 3) calulate explained variance \n",
    "explained_variance = pca.explained_variance_ratio_\n",
    "explained_variance"
   ]
  },
  {
   "cell_type": "code",
   "execution_count": 8,
   "id": "8782d62f",
   "metadata": {},
   "outputs": [
    {
     "data": {
      "text/plain": [
       "array([0.59596884, 0.92317704, 0.98240023, 0.99599655, 0.99995041,\n",
       "       0.99999864, 1.        ])"
      ]
     },
     "execution_count": 8,
     "metadata": {},
     "output_type": "execute_result"
    }
   ],
   "source": [
    "cumulative_variance = np.cumsum(explained_variance)\n",
    "cumulative_variance"
   ]
  },
  {
   "cell_type": "markdown",
   "id": "a1dc58ed",
   "metadata": {},
   "source": []
  },
  {
   "cell_type": "code",
   "execution_count": 9,
   "id": "9be9cca7",
   "metadata": {},
   "outputs": [
    {
     "data": {
      "image/png": "[encoded data removed]",
      "text/plain": [
       "<Figure size 640x480 with 2 Axes>"
      ]
     },
     "metadata": {},
     "output_type": "display_data"
    }
   ],
   "source": [
    "# Plot the explained variance and cumulative explained variance\n",
    "fig, ax1 = plt.subplots()\n",
    "# Plot explained variance as a bar plot\n",
    "ax1.bar(range(1, len(explained_variance) + 1), explained_variance, alpha=0.5, label='Explained Variance')\n",
    "ax1.set_xlabel('Component')\n",
    "ax1.set_ylabel('Explained Variance Ratio')\n",
    "ax1.set_title('Explained Variance and Cumulative Explained Variance for PCA Components')\n",
    "\n",
    "# Create a second y-axis for cumulative explained variance\n",
    "ax2 = ax1.twinx()\n",
    "ax2.plot(range(1, len(cumulative_variance) + 1), cumulative_variance, color='r', label='Cumulative Explained Variance')\n",
    "ax2.set_ylabel('Cumulative Explained Variance')\n",
    "\n",
    "# Combine the legends from both axes\n",
    "lines1, labels1 = ax1.get_legend_handles_labels()\n",
    "lines2, labels2 = ax2.get_legend_handles_labels()\n",
    "lines = lines1 + lines2\n",
    "labels = labels1 + labels2\n",
    "ax1.legend(lines, labels)\n",
    "\n",
    "plt.show()\n"
   ]
  },
  {
   "cell_type": "markdown",
   "id": "018e3947",
   "metadata": {},
   "source": [
    "Find the ideal number of components in which all the components can be reduced.\n",
    "to do this we use EigenValues\n"
   ]
  },
  {
   "cell_type": "code",
   "execution_count": 10,
   "id": "b8ce21be",
   "metadata": {},
   "outputs": [
    {
     "data": {
      "text/plain": [
       "array([4.18573434e+00, 2.29811778e+00, 4.15948838e-01, 9.54925358e-02,\n",
       "       2.77695834e-02, 3.38738483e-04, 9.55061572e-06])"
      ]
     },
     "execution_count": 10,
     "metadata": {},
     "output_type": "execute_result"
    }
   ],
   "source": [
    "# Eigen values are obtained by \n",
    "pca.explained_variance_"
   ]
  },
  {
   "cell_type": "code",
   "execution_count": 11,
   "id": "c39ec77d",
   "metadata": {},
   "outputs": [
    {
     "data": {
      "text/plain": [
       "Text(0.5, 1.0, 'Scree Plot')"
      ]
     },
     "execution_count": 11,
     "metadata": {},
     "output_type": "execute_result"
    },
    {
     "data": {
      "image/png": "[encoded data removed]",
      "text/plain": [
       "<Figure size 640x480 with 1 Axes>"
      ]
     },
     "metadata": {},
     "output_type": "display_data"
    }
   ],
   "source": [
    "# step 4) Plotting Scree Plot\n",
    "plt.style.use(\"ggplot\") \n",
    "plt.plot(pca.explained_variance_, marker='o')\n",
    "plt.xlabel(\"Eigenvalue number\")\n",
    "plt.ylabel(\"Eigenvalue size\")\n",
    "plt.title(\"Scree Plot\")"
   ]
  },
  {
   "cell_type": "code",
   "execution_count": null,
   "id": "4f94b515",
   "metadata": {},
   "outputs": [],
   "source": [
    "# step 5)"
   ]
  },
  {
   "cell_type": "markdown",
   "id": "554d6c7d",
   "metadata": {},
   "source": [
    "### using method 5 ) Kaiser rule as Reference given here  https://towardsdatascience.com/how-to-select-the-best-number-of-principal-components-for-the-dataset-287e64b14c6d\n",
    "\n",
    "## Keeping componenents with Eigen value size > 1 \n",
    "### 1st 2 points have value greater than 1\n",
    "\n",
    "### we conclude that the ideal no of components is 2"
   ]
  },
  {
   "cell_type": "markdown",
   "id": "cd5aab78",
   "metadata": {},
   "source": [
    "### Q1.\tYou wanted to shrink the information into certain number of components. And the ideal number of components you found is:\n",
    "\n",
    "### a.\t2 correct answer\n",
    "\n",
    "b.\t3 \n",
    "\n",
    "c.\t4\n",
    "\n",
    "d.\t5\n"
   ]
  },
  {
   "cell_type": "markdown",
   "id": "4ba567b0",
   "metadata": {},
   "source": [
    " ### Q2.\tAnd the components you got are having the information in range of:\n",
    " \n",
    " ### Ans : Observing the Cumulative Explained Variance for 2 components in steps above we get 92.317% which lies in range a. 92-94% \n",
    "\n",
    "### a.\t92-94% Correct Answer\n",
    "\n",
    "b.\t94-96%\n",
    "\n",
    "c.\t96-98%\n",
    "\n",
    "d.\t98-100%\n"
   ]
  },
  {
   "cell_type": "markdown",
   "id": "7af93c2c",
   "metadata": {},
   "source": [
    "### Q3 how  to find out the important features that are impacting on deciding brand of pizzas:"
   ]
  },
  {
   "cell_type": "code",
   "execution_count": 12,
   "id": "4ac29cf6",
   "metadata": {},
   "outputs": [
    {
     "data": {
      "text/plain": [
       "RandomForestClassifier(random_state=42)"
      ]
     },
     "execution_count": 12,
     "metadata": {},
     "output_type": "execute_result"
    }
   ],
   "source": [
    "import pandas as pd\n",
    "from sklearn.ensemble import RandomForestClassifier\n",
    "\n",
    "# Load the dataset\n",
    "df = pd.read_csv('Pizza.csv')  \n",
    "\n",
    "# Split the dataset into features (X) and target variable (y)\n",
    "X = df.drop(['brand', 'id'], axis=1)  # Remove 'brand' and 'id' columns as they are not features\n",
    "y = df['brand']\n",
    "\n",
    "# Create a Random Forest classifier object\n",
    "rf = RandomForestClassifier(n_estimators=100, random_state=42)\n",
    "\n",
    "# Fit the model\n",
    "rf.fit(X, y)"
   ]
  },
  {
   "cell_type": "code",
   "execution_count": 13,
   "id": "f0831002",
   "metadata": {},
   "outputs": [
    {
     "data": {
      "text/html": [
       "<div>\n",
       "<style scoped>\n",
       "    .dataframe tbody tr th:only-of-type {\n",
       "        vertical-align: middle;\n",
       "    }\n",
       "\n",
       "    .dataframe tbody tr th {\n",
       "        vertical-align: top;\n",
       "    }\n",
       "\n",
       "    .dataframe thead th {\n",
       "        text-align: right;\n",
       "    }\n",
       "</style>\n",
       "<table border=\"1\" class=\"dataframe\">\n",
       "  <thead>\n",
       "    <tr style=\"text-align: right;\">\n",
       "      <th></th>\n",
       "      <th>Feature</th>\n",
       "      <th>Importance</th>\n",
       "    </tr>\n",
       "  </thead>\n",
       "  <tbody>\n",
       "    <tr>\n",
       "      <th>0</th>\n",
       "      <td>mois</td>\n",
       "      <td>0.181131</td>\n",
       "    </tr>\n",
       "    <tr>\n",
       "      <th>1</th>\n",
       "      <td>prot</td>\n",
       "      <td>0.179102</td>\n",
       "    </tr>\n",
       "    <tr>\n",
       "      <th>3</th>\n",
       "      <td>ash</td>\n",
       "      <td>0.151193</td>\n",
       "    </tr>\n",
       "    <tr>\n",
       "      <th>5</th>\n",
       "      <td>carb</td>\n",
       "      <td>0.144289</td>\n",
       "    </tr>\n",
       "    <tr>\n",
       "      <th>4</th>\n",
       "      <td>sodium</td>\n",
       "      <td>0.134389</td>\n",
       "    </tr>\n",
       "    <tr>\n",
       "      <th>6</th>\n",
       "      <td>cal</td>\n",
       "      <td>0.130058</td>\n",
       "    </tr>\n",
       "    <tr>\n",
       "      <th>2</th>\n",
       "      <td>fat</td>\n",
       "      <td>0.079839</td>\n",
       "    </tr>\n",
       "  </tbody>\n",
       "</table>\n",
       "</div>"
      ],
      "text/plain": [
       "  Feature  Importance\n",
       "0    mois    0.181131\n",
       "1    prot    0.179102\n",
       "3     ash    0.151193\n",
       "5    carb    0.144289\n",
       "4  sodium    0.134389\n",
       "6     cal    0.130058\n",
       "2     fat    0.079839"
      ]
     },
     "execution_count": 13,
     "metadata": {},
     "output_type": "execute_result"
    }
   ],
   "source": [
    "# Get the feature importances\n",
    "feature_importances = rf.feature_importances_\n",
    "\n",
    "# Create a DataFrame with feature names and their importances\n",
    "importance_df = pd.DataFrame({'Feature': X.columns, 'Importance': feature_importances})\n",
    "\n",
    "# Sort the DataFrame by importance in descending order\n",
    "importance_df = importance_df.sort_values('Importance', ascending=False)\n",
    "importance_df"
   ]
  },
  {
   "cell_type": "code",
   "execution_count": 14,
   "id": "691cc6c8",
   "metadata": {},
   "outputs": [
    {
     "name": "stdout",
     "output_type": "stream",
     "text": [
      "['mois', 'prot', 'ash', 'carb', 'sodium', 'cal', 'fat']\n"
     ]
    }
   ],
   "source": [
    "# Print the feature importances in the order of importance\n",
    "print(importance_df['Feature'].tolist())"
   ]
  },
  {
   "cell_type": "markdown",
   "id": "32b142d8",
   "metadata": {},
   "source": [
    " \n",
    "3.\tAlso wanted to the important features that are impacting on deciding brand of pizzas:\n",
    "\n",
    "a.\tMois, prot, fat, ash, sodium, carbohydrate, calories\n",
    "\n",
    "b.\tMois, fat, ash, sodium, carbohydrate, calories\n",
    "\n",
    "c.\tMois, prot, fat, ash, carbohydrate, calories\n",
    "\n",
    "d.\tMois, prot, fat, ash, sodium, carbohydrate\n",
    "\n",
    "### Ans 3 : My answer does not match any of the options given "
   ]
  },
  {
   "cell_type": "markdown",
   "id": "e13dbe9f",
   "metadata": {},
   "source": [
    "### Q4 : 4.\tWith which technique you got highest accuracy:\n",
    "\n",
    "a.\tForward feature selection with Random forest\n",
    "\n",
    "b.\tBackward selection with Random forest \n",
    "\n",
    "c.\tOnly Random Forest\n",
    "\n",
    "d.\tBoth a and b\n"
   ]
  },
  {
   "cell_type": "code",
   "execution_count": 15,
   "id": "1d5d947e",
   "metadata": {},
   "outputs": [],
   "source": [
    "import pandas as pd\n",
    "from sklearn.ensemble import RandomForestClassifier\n",
    "from sklearn.model_selection import cross_val_score\n",
    "from sklearn.feature_selection import SequentialFeatureSelector\n",
    "\n",
    "# Load the dataset\n",
    "df = pd.read_csv('Pizza.csv') \n",
    "\n",
    "# Split the dataset into features (X) and target variable (y)\n",
    "X = df.drop(['brand', 'id'], axis=1)  # Remove 'brand' and 'id' columns as they are not features\n",
    "y = df['brand']\n",
    "\n",
    "\n"
   ]
  },
  {
   "cell_type": "code",
   "execution_count": 16,
   "id": "f632b64c",
   "metadata": {},
   "outputs": [],
   "source": [
    "# Random Forest classifier\n",
    "rf = RandomForestClassifier(n_estimators=100, random_state=42)"
   ]
  },
  {
   "cell_type": "code",
   "execution_count": 17,
   "id": "dfa635f8",
   "metadata": {},
   "outputs": [],
   "source": [
    "# Perform forward feature selection\n",
    "forward_selector = SequentialFeatureSelector(rf, n_features_to_select=5, direction='forward')\n",
    "forward_X = forward_selector.fit_transform(X, y)"
   ]
  },
  {
   "cell_type": "code",
   "execution_count": 18,
   "id": "c53f4aea",
   "metadata": {},
   "outputs": [],
   "source": [
    "# Perform backward feature selection\n",
    "backward_selector = SequentialFeatureSelector(rf, n_features_to_select=5, direction='backward')\n",
    "backward_X = backward_selector.fit_transform(X, y)"
   ]
  },
  {
   "cell_type": "code",
   "execution_count": 19,
   "id": "243e5980",
   "metadata": {},
   "outputs": [],
   "source": [
    "# Calculate cross-validated accuracy scores\n",
    "forward_scores = cross_val_score(rf, forward_X, y, cv=5)\n",
    "backward_scores = cross_val_score(rf, backward_X, y, cv=5)\n",
    "rf_scores = cross_val_score(rf, X, y, cv=5)"
   ]
  },
  {
   "cell_type": "code",
   "execution_count": 20,
   "id": "50b285b6",
   "metadata": {},
   "outputs": [
    {
     "name": "stdout",
     "output_type": "stream",
     "text": [
      "Forward feature selection with Random Forest: 0.9033333333333333\n",
      "Backward feature selection with Random Forest: 0.9099999999999999\n",
      "Random Forest without feature selection: 0.9033333333333333\n"
     ]
    }
   ],
   "source": [
    "# Print the mean accuracy scores for each technique\n",
    "print(\"Forward feature selection with Random Forest:\", forward_scores.mean())\n",
    "print(\"Backward feature selection with Random Forest:\", backward_scores.mean())\n",
    "print(\"Random Forest without feature selection:\", rf_scores.mean())"
   ]
  },
  {
   "cell_type": "markdown",
   "id": "e4426758",
   "metadata": {},
   "source": [
    "### Ans 4: The highest accuracy is obtained with Backward feature selection with Random Forest."
   ]
  },
  {
   "cell_type": "markdown",
   "id": "95cd6256",
   "metadata": {},
   "source": [
    "### Q5.\tWhich brand has the highest test to prediction ratio"
   ]
  },
  {
   "cell_type": "code",
   "execution_count": 22,
   "id": "f73967f1",
   "metadata": {},
   "outputs": [
    {
     "data": {
      "text/html": [
       "<div>\n",
       "<style scoped>\n",
       "    .dataframe tbody tr th:only-of-type {\n",
       "        vertical-align: middle;\n",
       "    }\n",
       "\n",
       "    .dataframe tbody tr th {\n",
       "        vertical-align: top;\n",
       "    }\n",
       "\n",
       "    .dataframe thead th {\n",
       "        text-align: right;\n",
       "    }\n",
       "</style>\n",
       "<table border=\"1\" class=\"dataframe\">\n",
       "  <thead>\n",
       "    <tr style=\"text-align: right;\">\n",
       "      <th></th>\n",
       "      <th>brand</th>\n",
       "      <th>mois</th>\n",
       "      <th>prot</th>\n",
       "      <th>fat</th>\n",
       "      <th>ash</th>\n",
       "      <th>sodium</th>\n",
       "      <th>carb</th>\n",
       "      <th>cal</th>\n",
       "    </tr>\n",
       "  </thead>\n",
       "  <tbody>\n",
       "    <tr>\n",
       "      <th>0</th>\n",
       "      <td>A</td>\n",
       "      <td>27.82</td>\n",
       "      <td>21.43</td>\n",
       "      <td>44.87</td>\n",
       "      <td>5.11</td>\n",
       "      <td>1.77</td>\n",
       "      <td>0.77</td>\n",
       "      <td>4.93</td>\n",
       "    </tr>\n",
       "    <tr>\n",
       "      <th>1</th>\n",
       "      <td>A</td>\n",
       "      <td>28.49</td>\n",
       "      <td>21.26</td>\n",
       "      <td>43.89</td>\n",
       "      <td>5.34</td>\n",
       "      <td>1.79</td>\n",
       "      <td>1.02</td>\n",
       "      <td>4.84</td>\n",
       "    </tr>\n",
       "    <tr>\n",
       "      <th>2</th>\n",
       "      <td>A</td>\n",
       "      <td>28.35</td>\n",
       "      <td>19.99</td>\n",
       "      <td>45.78</td>\n",
       "      <td>5.08</td>\n",
       "      <td>1.63</td>\n",
       "      <td>0.80</td>\n",
       "      <td>4.95</td>\n",
       "    </tr>\n",
       "    <tr>\n",
       "      <th>3</th>\n",
       "      <td>A</td>\n",
       "      <td>30.55</td>\n",
       "      <td>20.15</td>\n",
       "      <td>43.13</td>\n",
       "      <td>4.79</td>\n",
       "      <td>1.61</td>\n",
       "      <td>1.38</td>\n",
       "      <td>4.74</td>\n",
       "    </tr>\n",
       "    <tr>\n",
       "      <th>4</th>\n",
       "      <td>A</td>\n",
       "      <td>30.49</td>\n",
       "      <td>21.28</td>\n",
       "      <td>41.65</td>\n",
       "      <td>4.82</td>\n",
       "      <td>1.64</td>\n",
       "      <td>1.76</td>\n",
       "      <td>4.67</td>\n",
       "    </tr>\n",
       "  </tbody>\n",
       "</table>\n",
       "</div>"
      ],
      "text/plain": [
       "  brand   mois   prot    fat   ash  sodium  carb   cal\n",
       "0     A  27.82  21.43  44.87  5.11    1.77  0.77  4.93\n",
       "1     A  28.49  21.26  43.89  5.34    1.79  1.02  4.84\n",
       "2     A  28.35  19.99  45.78  5.08    1.63  0.80  4.95\n",
       "3     A  30.55  20.15  43.13  4.79    1.61  1.38  4.74\n",
       "4     A  30.49  21.28  41.65  4.82    1.64  1.76  4.67"
      ]
     },
     "execution_count": 22,
     "metadata": {},
     "output_type": "execute_result"
    }
   ],
   "source": [
    "# Lets Import the libraries and data set\n",
    "\n",
    "import pandas as pd\n",
    "\n",
    "from sklearn.model_selection import train_test_split\n",
    "\n",
    "# Load the dataset\n",
    "df = pd.read_csv('Pizza.csv') \n",
    "df= df.drop (['id'],axis=1)\n",
    "df.head()\n",
    "# Split the dataset into features (X) and target variable (y)\n",
    "#X = df.drop(['brand', 'id'], axis=1)  # Remove 'brand' and 'id' columns as they are not features\n",
    "#y = df['brand']"
   ]
  },
  {
   "cell_type": "code",
   "execution_count": 23,
   "id": "a084c948",
   "metadata": {},
   "outputs": [
    {
     "data": {
      "text/plain": [
       "brand      object\n",
       "mois      float64\n",
       "prot      float64\n",
       "fat       float64\n",
       "ash       float64\n",
       "sodium    float64\n",
       "carb      float64\n",
       "cal       float64\n",
       "dtype: object"
      ]
     },
     "execution_count": 23,
     "metadata": {},
     "output_type": "execute_result"
    }
   ],
   "source": [
    "df.dtypes"
   ]
  },
  {
   "cell_type": "code",
   "execution_count": 24,
   "id": "13a1785b",
   "metadata": {},
   "outputs": [
    {
     "data": {
      "text/plain": [
       "brand     category\n",
       "mois       float64\n",
       "prot       float64\n",
       "fat        float64\n",
       "ash        float64\n",
       "sodium     float64\n",
       "carb       float64\n",
       "cal        float64\n",
       "dtype: object"
      ]
     },
     "execution_count": 24,
     "metadata": {},
     "output_type": "execute_result"
    }
   ],
   "source": [
    "# converting brand into catgorical \n",
    "\n",
    "df['brand'] = df['brand'].astype(\"category\")\n",
    "\n",
    "# Lets check the data type again\n",
    "\n",
    "df.dtypes"
   ]
  },
  {
   "cell_type": "code",
   "execution_count": 25,
   "id": "bd9756fd",
   "metadata": {},
   "outputs": [
    {
     "data": {
      "text/plain": [
       "brand     0\n",
       "mois      0\n",
       "prot      0\n",
       "fat       0\n",
       "ash       0\n",
       "sodium    0\n",
       "carb      0\n",
       "cal       0\n",
       "dtype: int64"
      ]
     },
     "execution_count": 25,
     "metadata": {},
     "output_type": "execute_result"
    }
   ],
   "source": [
    "# Also check if any column have missing values\n",
    "\n",
    "df.isnull().sum()"
   ]
  },
  {
   "cell_type": "code",
   "execution_count": 26,
   "id": "17485210",
   "metadata": {},
   "outputs": [],
   "source": [
    "# Step 1: Prepare the data Find your X (Input Variable) and y (Target) variable\n",
    "\n",
    "y = df[['brand']]\n",
    "\n",
    "X = df.drop(columns = ['brand'])"
   ]
  },
  {
   "cell_type": "code",
   "execution_count": 27,
   "id": "df320f2c",
   "metadata": {},
   "outputs": [
    {
     "data": {
      "text/plain": [
       "(240, 60, 240, 60)"
      ]
     },
     "execution_count": 27,
     "metadata": {},
     "output_type": "execute_result"
    }
   ],
   "source": [
    "# Step 2: Split the data into training and testing sets\n",
    "X_train, X_test, y_train, y_test = train_test_split(X, y, test_size=0.2, random_state=42)\n",
    "len(X_train), len(X_test), len(y_train), len(y_test)"
   ]
  },
  {
   "cell_type": "code",
   "execution_count": 28,
   "id": "36858380",
   "metadata": {},
   "outputs": [
    {
     "name": "stderr",
     "output_type": "stream",
     "text": [
      "C:\\Users\\Administrator\\AppData\\Local\\Temp\\ipykernel_33912\\2993647768.py:3: DataConversionWarning: A column-vector y was passed when a 1d array was expected. Please change the shape of y to (n_samples,), for example using ravel().\n",
      "  clf.fit(X_train, y_train)\n"
     ]
    },
    {
     "data": {
      "text/plain": [
       "RandomForestClassifier()"
      ]
     },
     "execution_count": 28,
     "metadata": {},
     "output_type": "execute_result"
    }
   ],
   "source": [
    "\n",
    "# Step 3: Train the random forest classifier\n",
    "clf = RandomForestClassifier()\n",
    "clf.fit(X_train, y_train)\n"
   ]
  },
  {
   "cell_type": "code",
   "execution_count": 29,
   "id": "ef29b8f5",
   "metadata": {},
   "outputs": [
    {
     "data": {
      "text/html": [
       "<div>\n",
       "<style scoped>\n",
       "    .dataframe tbody tr th:only-of-type {\n",
       "        vertical-align: middle;\n",
       "    }\n",
       "\n",
       "    .dataframe tbody tr th {\n",
       "        vertical-align: top;\n",
       "    }\n",
       "\n",
       "    .dataframe thead th {\n",
       "        text-align: right;\n",
       "    }\n",
       "</style>\n",
       "<table border=\"1\" class=\"dataframe\">\n",
       "  <thead>\n",
       "    <tr style=\"text-align: right;\">\n",
       "      <th></th>\n",
       "      <th>brand</th>\n",
       "      <th>Pred_brand</th>\n",
       "    </tr>\n",
       "  </thead>\n",
       "  <tbody>\n",
       "    <tr>\n",
       "      <th>203</th>\n",
       "      <td>G</td>\n",
       "      <td>G</td>\n",
       "    </tr>\n",
       "    <tr>\n",
       "      <th>266</th>\n",
       "      <td>I</td>\n",
       "      <td>I</td>\n",
       "    </tr>\n",
       "    <tr>\n",
       "      <th>152</th>\n",
       "      <td>F</td>\n",
       "      <td>F</td>\n",
       "    </tr>\n",
       "    <tr>\n",
       "      <th>9</th>\n",
       "      <td>A</td>\n",
       "      <td>A</td>\n",
       "    </tr>\n",
       "    <tr>\n",
       "      <th>233</th>\n",
       "      <td>H</td>\n",
       "      <td>H</td>\n",
       "    </tr>\n",
       "    <tr>\n",
       "      <th>226</th>\n",
       "      <td>H</td>\n",
       "      <td>H</td>\n",
       "    </tr>\n",
       "    <tr>\n",
       "      <th>196</th>\n",
       "      <td>G</td>\n",
       "      <td>G</td>\n",
       "    </tr>\n",
       "    <tr>\n",
       "      <th>109</th>\n",
       "      <td>D</td>\n",
       "      <td>D</td>\n",
       "    </tr>\n",
       "    <tr>\n",
       "      <th>5</th>\n",
       "      <td>A</td>\n",
       "      <td>A</td>\n",
       "    </tr>\n",
       "    <tr>\n",
       "      <th>175</th>\n",
       "      <td>F</td>\n",
       "      <td>F</td>\n",
       "    </tr>\n",
       "    <tr>\n",
       "      <th>237</th>\n",
       "      <td>H</td>\n",
       "      <td>H</td>\n",
       "    </tr>\n",
       "    <tr>\n",
       "      <th>57</th>\n",
       "      <td>B</td>\n",
       "      <td>B</td>\n",
       "    </tr>\n",
       "    <tr>\n",
       "      <th>218</th>\n",
       "      <td>H</td>\n",
       "      <td>H</td>\n",
       "    </tr>\n",
       "    <tr>\n",
       "      <th>45</th>\n",
       "      <td>B</td>\n",
       "      <td>B</td>\n",
       "    </tr>\n",
       "    <tr>\n",
       "      <th>182</th>\n",
       "      <td>G</td>\n",
       "      <td>G</td>\n",
       "    </tr>\n",
       "    <tr>\n",
       "      <th>221</th>\n",
       "      <td>H</td>\n",
       "      <td>H</td>\n",
       "    </tr>\n",
       "    <tr>\n",
       "      <th>289</th>\n",
       "      <td>J</td>\n",
       "      <td>J</td>\n",
       "    </tr>\n",
       "    <tr>\n",
       "      <th>211</th>\n",
       "      <td>H</td>\n",
       "      <td>H</td>\n",
       "    </tr>\n",
       "    <tr>\n",
       "      <th>148</th>\n",
       "      <td>F</td>\n",
       "      <td>F</td>\n",
       "    </tr>\n",
       "    <tr>\n",
       "      <th>165</th>\n",
       "      <td>F</td>\n",
       "      <td>F</td>\n",
       "    </tr>\n",
       "    <tr>\n",
       "      <th>78</th>\n",
       "      <td>C</td>\n",
       "      <td>C</td>\n",
       "    </tr>\n",
       "    <tr>\n",
       "      <th>113</th>\n",
       "      <td>D</td>\n",
       "      <td>D</td>\n",
       "    </tr>\n",
       "    <tr>\n",
       "      <th>249</th>\n",
       "      <td>I</td>\n",
       "      <td>I</td>\n",
       "    </tr>\n",
       "    <tr>\n",
       "      <th>250</th>\n",
       "      <td>I</td>\n",
       "      <td>I</td>\n",
       "    </tr>\n",
       "    <tr>\n",
       "      <th>104</th>\n",
       "      <td>D</td>\n",
       "      <td>D</td>\n",
       "    </tr>\n",
       "    <tr>\n",
       "      <th>42</th>\n",
       "      <td>B</td>\n",
       "      <td>B</td>\n",
       "    </tr>\n",
       "    <tr>\n",
       "      <th>281</th>\n",
       "      <td>J</td>\n",
       "      <td>J</td>\n",
       "    </tr>\n",
       "    <tr>\n",
       "      <th>295</th>\n",
       "      <td>J</td>\n",
       "      <td>J</td>\n",
       "    </tr>\n",
       "    <tr>\n",
       "      <th>157</th>\n",
       "      <td>F</td>\n",
       "      <td>F</td>\n",
       "    </tr>\n",
       "    <tr>\n",
       "      <th>238</th>\n",
       "      <td>H</td>\n",
       "      <td>H</td>\n",
       "    </tr>\n",
       "    <tr>\n",
       "      <th>17</th>\n",
       "      <td>A</td>\n",
       "      <td>A</td>\n",
       "    </tr>\n",
       "    <tr>\n",
       "      <th>164</th>\n",
       "      <td>F</td>\n",
       "      <td>F</td>\n",
       "    </tr>\n",
       "    <tr>\n",
       "      <th>33</th>\n",
       "      <td>B</td>\n",
       "      <td>B</td>\n",
       "    </tr>\n",
       "    <tr>\n",
       "      <th>24</th>\n",
       "      <td>A</td>\n",
       "      <td>A</td>\n",
       "    </tr>\n",
       "    <tr>\n",
       "      <th>215</th>\n",
       "      <td>H</td>\n",
       "      <td>H</td>\n",
       "    </tr>\n",
       "    <tr>\n",
       "      <th>119</th>\n",
       "      <td>E</td>\n",
       "      <td>H</td>\n",
       "    </tr>\n",
       "    <tr>\n",
       "      <th>7</th>\n",
       "      <td>A</td>\n",
       "      <td>A</td>\n",
       "    </tr>\n",
       "    <tr>\n",
       "      <th>90</th>\n",
       "      <td>D</td>\n",
       "      <td>D</td>\n",
       "    </tr>\n",
       "    <tr>\n",
       "      <th>46</th>\n",
       "      <td>B</td>\n",
       "      <td>B</td>\n",
       "    </tr>\n",
       "    <tr>\n",
       "      <th>73</th>\n",
       "      <td>C</td>\n",
       "      <td>C</td>\n",
       "    </tr>\n",
       "    <tr>\n",
       "      <th>93</th>\n",
       "      <td>D</td>\n",
       "      <td>D</td>\n",
       "    </tr>\n",
       "    <tr>\n",
       "      <th>76</th>\n",
       "      <td>C</td>\n",
       "      <td>C</td>\n",
       "    </tr>\n",
       "    <tr>\n",
       "      <th>286</th>\n",
       "      <td>J</td>\n",
       "      <td>J</td>\n",
       "    </tr>\n",
       "    <tr>\n",
       "      <th>60</th>\n",
       "      <td>C</td>\n",
       "      <td>C</td>\n",
       "    </tr>\n",
       "    <tr>\n",
       "      <th>77</th>\n",
       "      <td>C</td>\n",
       "      <td>D</td>\n",
       "    </tr>\n",
       "    <tr>\n",
       "      <th>63</th>\n",
       "      <td>C</td>\n",
       "      <td>C</td>\n",
       "    </tr>\n",
       "    <tr>\n",
       "      <th>234</th>\n",
       "      <td>H</td>\n",
       "      <td>H</td>\n",
       "    </tr>\n",
       "    <tr>\n",
       "      <th>229</th>\n",
       "      <td>H</td>\n",
       "      <td>H</td>\n",
       "    </tr>\n",
       "    <tr>\n",
       "      <th>111</th>\n",
       "      <td>D</td>\n",
       "      <td>D</td>\n",
       "    </tr>\n",
       "    <tr>\n",
       "      <th>231</th>\n",
       "      <td>H</td>\n",
       "      <td>H</td>\n",
       "    </tr>\n",
       "    <tr>\n",
       "      <th>180</th>\n",
       "      <td>G</td>\n",
       "      <td>G</td>\n",
       "    </tr>\n",
       "    <tr>\n",
       "      <th>144</th>\n",
       "      <td>E</td>\n",
       "      <td>E</td>\n",
       "    </tr>\n",
       "    <tr>\n",
       "      <th>239</th>\n",
       "      <td>I</td>\n",
       "      <td>I</td>\n",
       "    </tr>\n",
       "    <tr>\n",
       "      <th>75</th>\n",
       "      <td>C</td>\n",
       "      <td>C</td>\n",
       "    </tr>\n",
       "    <tr>\n",
       "      <th>297</th>\n",
       "      <td>J</td>\n",
       "      <td>J</td>\n",
       "    </tr>\n",
       "    <tr>\n",
       "      <th>278</th>\n",
       "      <td>J</td>\n",
       "      <td>J</td>\n",
       "    </tr>\n",
       "    <tr>\n",
       "      <th>97</th>\n",
       "      <td>D</td>\n",
       "      <td>D</td>\n",
       "    </tr>\n",
       "    <tr>\n",
       "      <th>92</th>\n",
       "      <td>D</td>\n",
       "      <td>D</td>\n",
       "    </tr>\n",
       "    <tr>\n",
       "      <th>192</th>\n",
       "      <td>G</td>\n",
       "      <td>G</td>\n",
       "    </tr>\n",
       "    <tr>\n",
       "      <th>25</th>\n",
       "      <td>A</td>\n",
       "      <td>A</td>\n",
       "    </tr>\n",
       "  </tbody>\n",
       "</table>\n",
       "</div>"
      ],
      "text/plain": [
       "    brand Pred_brand\n",
       "203     G          G\n",
       "266     I          I\n",
       "152     F          F\n",
       "9       A          A\n",
       "233     H          H\n",
       "226     H          H\n",
       "196     G          G\n",
       "109     D          D\n",
       "5       A          A\n",
       "175     F          F\n",
       "237     H          H\n",
       "57      B          B\n",
       "218     H          H\n",
       "45      B          B\n",
       "182     G          G\n",
       "221     H          H\n",
       "289     J          J\n",
       "211     H          H\n",
       "148     F          F\n",
       "165     F          F\n",
       "78      C          C\n",
       "113     D          D\n",
       "249     I          I\n",
       "250     I          I\n",
       "104     D          D\n",
       "42      B          B\n",
       "281     J          J\n",
       "295     J          J\n",
       "157     F          F\n",
       "238     H          H\n",
       "17      A          A\n",
       "164     F          F\n",
       "33      B          B\n",
       "24      A          A\n",
       "215     H          H\n",
       "119     E          H\n",
       "7       A          A\n",
       "90      D          D\n",
       "46      B          B\n",
       "73      C          C\n",
       "93      D          D\n",
       "76      C          C\n",
       "286     J          J\n",
       "60      C          C\n",
       "77      C          D\n",
       "63      C          C\n",
       "234     H          H\n",
       "229     H          H\n",
       "111     D          D\n",
       "231     H          H\n",
       "180     G          G\n",
       "144     E          E\n",
       "239     I          I\n",
       "75      C          C\n",
       "297     J          J\n",
       "278     J          J\n",
       "97      D          D\n",
       "92      D          D\n",
       "192     G          G\n",
       "25      A          A"
      ]
     },
     "execution_count": 29,
     "metadata": {},
     "output_type": "execute_result"
    }
   ],
   "source": [
    "\n",
    "# Step 4: Make predictions\n",
    "y_test['Pred_brand']= clf.predict(X_test)\n",
    "y_test\n"
   ]
  },
  {
   "cell_type": "code",
   "execution_count": 30,
   "id": "660b44fc",
   "metadata": {},
   "outputs": [
    {
     "data": {
      "text/plain": [
       "brand         category\n",
       "Pred_brand      object\n",
       "dtype: object"
      ]
     },
     "execution_count": 30,
     "metadata": {},
     "output_type": "execute_result"
    }
   ],
   "source": [
    "y_test.dtypes"
   ]
  },
  {
   "cell_type": "code",
   "execution_count": 31,
   "id": "669fb4a5",
   "metadata": {},
   "outputs": [
    {
     "data": {
      "text/plain": [
       "brand         category\n",
       "Pred_brand    category\n",
       "dtype: object"
      ]
     },
     "execution_count": 31,
     "metadata": {},
     "output_type": "execute_result"
    }
   ],
   "source": [
    "# converting brand into catgorical \n",
    "\n",
    "y_test['Pred_brand'] = y_test['Pred_brand'].astype(\"category\")\n",
    "\n",
    "# Lets check the data type again\n",
    "\n",
    "y_test.dtypes"
   ]
  },
  {
   "cell_type": "code",
   "execution_count": null,
   "id": "33d7150b",
   "metadata": {},
   "outputs": [],
   "source": []
  },
  {
   "cell_type": "code",
   "execution_count": 32,
   "id": "ad331106",
   "metadata": {},
   "outputs": [
    {
     "data": {
      "text/html": [
       "<div>\n",
       "<style scoped>\n",
       "    .dataframe tbody tr th:only-of-type {\n",
       "        vertical-align: middle;\n",
       "    }\n",
       "\n",
       "    .dataframe tbody tr th {\n",
       "        vertical-align: top;\n",
       "    }\n",
       "\n",
       "    .dataframe thead th {\n",
       "        text-align: right;\n",
       "    }\n",
       "</style>\n",
       "<table border=\"1\" class=\"dataframe\">\n",
       "  <thead>\n",
       "    <tr style=\"text-align: right;\">\n",
       "      <th></th>\n",
       "      <th>brand</th>\n",
       "      <th>test_count</th>\n",
       "    </tr>\n",
       "  </thead>\n",
       "  <tbody>\n",
       "    <tr>\n",
       "      <th>0</th>\n",
       "      <td>H</td>\n",
       "      <td>11</td>\n",
       "    </tr>\n",
       "    <tr>\n",
       "      <th>1</th>\n",
       "      <td>D</td>\n",
       "      <td>8</td>\n",
       "    </tr>\n",
       "    <tr>\n",
       "      <th>2</th>\n",
       "      <td>C</td>\n",
       "      <td>7</td>\n",
       "    </tr>\n",
       "    <tr>\n",
       "      <th>3</th>\n",
       "      <td>A</td>\n",
       "      <td>6</td>\n",
       "    </tr>\n",
       "    <tr>\n",
       "      <th>4</th>\n",
       "      <td>F</td>\n",
       "      <td>6</td>\n",
       "    </tr>\n",
       "    <tr>\n",
       "      <th>5</th>\n",
       "      <td>J</td>\n",
       "      <td>6</td>\n",
       "    </tr>\n",
       "    <tr>\n",
       "      <th>6</th>\n",
       "      <td>B</td>\n",
       "      <td>5</td>\n",
       "    </tr>\n",
       "    <tr>\n",
       "      <th>7</th>\n",
       "      <td>G</td>\n",
       "      <td>5</td>\n",
       "    </tr>\n",
       "    <tr>\n",
       "      <th>8</th>\n",
       "      <td>I</td>\n",
       "      <td>4</td>\n",
       "    </tr>\n",
       "    <tr>\n",
       "      <th>9</th>\n",
       "      <td>E</td>\n",
       "      <td>2</td>\n",
       "    </tr>\n",
       "  </tbody>\n",
       "</table>\n",
       "</div>"
      ],
      "text/plain": [
       "  brand  test_count\n",
       "0     H          11\n",
       "1     D           8\n",
       "2     C           7\n",
       "3     A           6\n",
       "4     F           6\n",
       "5     J           6\n",
       "6     B           5\n",
       "7     G           5\n",
       "8     I           4\n",
       "9     E           2"
      ]
     },
     "execution_count": 32,
     "metadata": {},
     "output_type": "execute_result"
    }
   ],
   "source": [
    "# Count the occurrences of each brand in the 'brand' column\n",
    "brand_counts = y_test['brand'].value_counts().reset_index()\n",
    "brand_counts.columns = ['brand', 'test_count']\n",
    "brand_counts"
   ]
  },
  {
   "cell_type": "code",
   "execution_count": 33,
   "id": "c284d285",
   "metadata": {},
   "outputs": [
    {
     "data": {
      "text/html": [
       "<div>\n",
       "<style scoped>\n",
       "    .dataframe tbody tr th:only-of-type {\n",
       "        vertical-align: middle;\n",
       "    }\n",
       "\n",
       "    .dataframe tbody tr th {\n",
       "        vertical-align: top;\n",
       "    }\n",
       "\n",
       "    .dataframe thead th {\n",
       "        text-align: right;\n",
       "    }\n",
       "</style>\n",
       "<table border=\"1\" class=\"dataframe\">\n",
       "  <thead>\n",
       "    <tr style=\"text-align: right;\">\n",
       "      <th></th>\n",
       "      <th>brand</th>\n",
       "      <th>predicted_count</th>\n",
       "    </tr>\n",
       "  </thead>\n",
       "  <tbody>\n",
       "    <tr>\n",
       "      <th>0</th>\n",
       "      <td>H</td>\n",
       "      <td>12</td>\n",
       "    </tr>\n",
       "    <tr>\n",
       "      <th>1</th>\n",
       "      <td>D</td>\n",
       "      <td>9</td>\n",
       "    </tr>\n",
       "    <tr>\n",
       "      <th>2</th>\n",
       "      <td>A</td>\n",
       "      <td>6</td>\n",
       "    </tr>\n",
       "    <tr>\n",
       "      <th>3</th>\n",
       "      <td>C</td>\n",
       "      <td>6</td>\n",
       "    </tr>\n",
       "    <tr>\n",
       "      <th>4</th>\n",
       "      <td>F</td>\n",
       "      <td>6</td>\n",
       "    </tr>\n",
       "    <tr>\n",
       "      <th>5</th>\n",
       "      <td>J</td>\n",
       "      <td>6</td>\n",
       "    </tr>\n",
       "    <tr>\n",
       "      <th>6</th>\n",
       "      <td>B</td>\n",
       "      <td>5</td>\n",
       "    </tr>\n",
       "    <tr>\n",
       "      <th>7</th>\n",
       "      <td>G</td>\n",
       "      <td>5</td>\n",
       "    </tr>\n",
       "    <tr>\n",
       "      <th>8</th>\n",
       "      <td>I</td>\n",
       "      <td>4</td>\n",
       "    </tr>\n",
       "    <tr>\n",
       "      <th>9</th>\n",
       "      <td>E</td>\n",
       "      <td>1</td>\n",
       "    </tr>\n",
       "  </tbody>\n",
       "</table>\n",
       "</div>"
      ],
      "text/plain": [
       "  brand  predicted_count\n",
       "0     H               12\n",
       "1     D                9\n",
       "2     A                6\n",
       "3     C                6\n",
       "4     F                6\n",
       "5     J                6\n",
       "6     B                5\n",
       "7     G                5\n",
       "8     I                4\n",
       "9     E                1"
      ]
     },
     "execution_count": 33,
     "metadata": {},
     "output_type": "execute_result"
    }
   ],
   "source": [
    "\n",
    "# Count the occurrences of each brand in the 'Pred_brand' column\n",
    "pred_counts = y_test['Pred_brand'].value_counts().reset_index()\n",
    "pred_counts.columns = ['brand', 'predicted_count']\n",
    "pred_counts"
   ]
  },
  {
   "cell_type": "code",
   "execution_count": 34,
   "id": "67f950a6",
   "metadata": {},
   "outputs": [
    {
     "name": "stdout",
     "output_type": "stream",
     "text": [
      "  brand  test_count  predicted_count\n",
      "0     H          11               12\n",
      "1     D           8                9\n",
      "2     C           7                6\n",
      "3     A           6                6\n",
      "4     F           6                6\n",
      "5     J           6                6\n",
      "6     B           5                5\n",
      "7     G           5                5\n",
      "8     I           4                4\n",
      "9     E           2                1\n"
     ]
    }
   ],
   "source": [
    "\n",
    "# Merge the two counts into a single DataFrame\n",
    "result = pd.merge(brand_counts, pred_counts, on='brand')\n",
    "\n",
    "# Display the resulting DataFrame\n",
    "print(result)"
   ]
  },
  {
   "cell_type": "markdown",
   "id": "e0aee9bb",
   "metadata": {},
   "source": [
    "### Ans5 : from output of above we observe \n",
    "test_count of H> predicted_count of H \n",
    "& test_count of G, I, J == predicted_count of G,I,J\n",
    "#### Therefore in absence of further guidance defining test to prediction ratio  as \n",
    "### test to predicted ratio(TPR) = test_count / predicted_count\n",
    "### we conclude that TPR of G,I&J are the same = 1 & H is least <1"
   ]
  },
  {
   "cell_type": "code",
   "execution_count": null,
   "id": "99af4ead",
   "metadata": {},
   "outputs": [],
   "source": []
  },
  {
   "cell_type": "code",
   "execution_count": null,
   "id": "70f96983",
   "metadata": {},
   "outputs": [],
   "source": []
  }
 ],
 "metadata": {
  "kernelspec": {
   "display_name": "Python 3 (ipykernel)",
   "language": "python",
   "name": "python3"
  },
  "language_info": {
   "codemirror_mode": {
    "name": "ipython",
    "version": 3
   },
   "file_extension": ".py",
   "mimetype": "text/x-python",
   "name": "python",
   "nbconvert_exporter": "python",
   "pygments_lexer": "ipython3",
   "version": "3.9.13"
  }
 },
 "nbformat": 4,
 "nbformat_minor": 5
}
