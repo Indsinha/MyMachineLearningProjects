{
 "cells": [
  {
   "cell_type": "code",
   "execution_count": 1,
   "id": "ac74fd2e",
   "metadata": {
    "papermill": {
     "duration": 4.125147,
     "end_time": "2025-04-24T11:32:08.934866",
     "exception": false,
     "start_time": "2025-04-24T11:32:04.809719",
     "status": "completed"
    },
    "tags": []
   },
   "outputs": [],
   "source": [
    "import pandas as pd\n",
    "import matplotlib.pyplot as plt\n",
    "import warnings\n",
    "import seaborn as sns\n",
    "warnings.filterwarnings(\"ignore\")"
   ]
  },
  {
   "cell_type": "code",
   "execution_count": 2,
   "id": "8db814f4",
   "metadata": {
    "papermill": {
     "duration": 0.075546,
     "end_time": "2025-04-24T11:32:09.015567",
     "exception": false,
     "start_time": "2025-04-24T11:32:08.940021",
     "status": "completed"
    },
    "tags": []
   },
   "outputs": [],
   "source": [
    "df = pd.read_csv('LIMFADD.csv')"
   ]
  },
  {
   "cell_type": "code",
   "execution_count": 3,
   "id": "6775babc",
   "metadata": {
    "papermill": {
     "duration": 0.037504,
     "end_time": "2025-04-24T11:32:09.057960",
     "exception": false,
     "start_time": "2025-04-24T11:32:09.020456",
     "status": "completed"
    },
    "tags": []
   },
   "outputs": [
    {
     "data": {
      "text/html": [
       "<div>\n",
       "<style scoped>\n",
       "    .dataframe tbody tr th:only-of-type {\n",
       "        vertical-align: middle;\n",
       "    }\n",
       "\n",
       "    .dataframe tbody tr th {\n",
       "        vertical-align: top;\n",
       "    }\n",
       "\n",
       "    .dataframe thead th {\n",
       "        text-align: right;\n",
       "    }\n",
       "</style>\n",
       "<table border=\"1\" class=\"dataframe\">\n",
       "  <thead>\n",
       "    <tr style=\"text-align: right;\">\n",
       "      <th></th>\n",
       "      <th>Followers</th>\n",
       "      <th>Following</th>\n",
       "      <th>Following/Followers</th>\n",
       "      <th>Posts</th>\n",
       "      <th>Posts/Followers</th>\n",
       "      <th>Bio</th>\n",
       "      <th>Profile Picture</th>\n",
       "      <th>External Link</th>\n",
       "      <th>Mutual Friends</th>\n",
       "      <th>Threads</th>\n",
       "      <th>Labels</th>\n",
       "    </tr>\n",
       "  </thead>\n",
       "  <tbody>\n",
       "    <tr>\n",
       "      <th>0</th>\n",
       "      <td>2</td>\n",
       "      <td>2757</td>\n",
       "      <td>1378.5</td>\n",
       "      <td>0</td>\n",
       "      <td>0</td>\n",
       "      <td>N</td>\n",
       "      <td>N</td>\n",
       "      <td>N</td>\n",
       "      <td>0</td>\n",
       "      <td>N</td>\n",
       "      <td>Bot</td>\n",
       "    </tr>\n",
       "    <tr>\n",
       "      <th>1</th>\n",
       "      <td>2</td>\n",
       "      <td>505</td>\n",
       "      <td>252.5</td>\n",
       "      <td>0</td>\n",
       "      <td>0</td>\n",
       "      <td>N</td>\n",
       "      <td>Yes</td>\n",
       "      <td>N</td>\n",
       "      <td>0</td>\n",
       "      <td>N</td>\n",
       "      <td>Scam</td>\n",
       "    </tr>\n",
       "    <tr>\n",
       "      <th>2</th>\n",
       "      <td>6786</td>\n",
       "      <td>1782</td>\n",
       "      <td>0.262599469</td>\n",
       "      <td>1589</td>\n",
       "      <td>6051.040404</td>\n",
       "      <td>yes</td>\n",
       "      <td>N</td>\n",
       "      <td>Yes</td>\n",
       "      <td>10</td>\n",
       "      <td>N</td>\n",
       "      <td>Real</td>\n",
       "    </tr>\n",
       "    <tr>\n",
       "      <th>3</th>\n",
       "      <td>21</td>\n",
       "      <td>1281</td>\n",
       "      <td>61</td>\n",
       "      <td>0</td>\n",
       "      <td>0</td>\n",
       "      <td>N</td>\n",
       "      <td>Yes</td>\n",
       "      <td>N</td>\n",
       "      <td>0</td>\n",
       "      <td>N</td>\n",
       "      <td>Bot</td>\n",
       "    </tr>\n",
       "    <tr>\n",
       "      <th>4</th>\n",
       "      <td>585</td>\n",
       "      <td>1682</td>\n",
       "      <td>2.875213675</td>\n",
       "      <td>2663</td>\n",
       "      <td>926.1920333</td>\n",
       "      <td>yes</td>\n",
       "      <td>N</td>\n",
       "      <td>N</td>\n",
       "      <td>12</td>\n",
       "      <td>Yes</td>\n",
       "      <td>Real</td>\n",
       "    </tr>\n",
       "  </tbody>\n",
       "</table>\n",
       "</div>"
      ],
      "text/plain": [
       "   Followers  Following Following/Followers  Posts Posts/Followers  Bio  \\\n",
       "0          2       2757              1378.5      0               0    N   \n",
       "1          2        505               252.5      0               0    N   \n",
       "2       6786       1782         0.262599469   1589     6051.040404  yes   \n",
       "3         21       1281                  61      0               0    N   \n",
       "4        585       1682         2.875213675   2663     926.1920333  yes   \n",
       "\n",
       "  Profile Picture External Link  Mutual Friends Threads Labels  \n",
       "0               N             N               0       N    Bot  \n",
       "1             Yes             N               0       N   Scam  \n",
       "2               N           Yes              10       N   Real  \n",
       "3             Yes             N               0       N    Bot  \n",
       "4               N             N              12     Yes   Real  "
      ]
     },
     "execution_count": 3,
     "metadata": {},
     "output_type": "execute_result"
    }
   ],
   "source": [
    "df.head()"
   ]
  },
  {
   "cell_type": "code",
   "execution_count": 4,
   "id": "4a92a3eb",
   "metadata": {
    "papermill": {
     "duration": 0.013668,
     "end_time": "2025-04-24T11:32:09.076646",
     "exception": false,
     "start_time": "2025-04-24T11:32:09.062978",
     "status": "completed"
    },
    "tags": []
   },
   "outputs": [
    {
     "data": {
      "text/plain": [
       "(15000, 11)"
      ]
     },
     "execution_count": 4,
     "metadata": {},
     "output_type": "execute_result"
    }
   ],
   "source": [
    "df.shape"
   ]
  },
  {
   "cell_type": "code",
   "execution_count": 5,
   "id": "72fe28be",
   "metadata": {
    "papermill": {
     "duration": 0.022231,
     "end_time": "2025-04-24T11:32:09.104011",
     "exception": false,
     "start_time": "2025-04-24T11:32:09.081780",
     "status": "completed"
    },
    "tags": []
   },
   "outputs": [
    {
     "data": {
      "text/plain": [
       "Followers              0\n",
       "Following              0\n",
       "Following/Followers    0\n",
       "Posts                  0\n",
       "Posts/Followers        0\n",
       "Bio                    0\n",
       "Profile Picture        0\n",
       "External Link          0\n",
       "Mutual Friends         0\n",
       "Threads                0\n",
       "Labels                 0\n",
       "dtype: int64"
      ]
     },
     "execution_count": 5,
     "metadata": {},
     "output_type": "execute_result"
    }
   ],
   "source": [
    "df.isnull().sum()"
   ]
  },
  {
   "cell_type": "code",
   "execution_count": 6,
   "id": "3b7ec6c7",
   "metadata": {
    "papermill": {
     "duration": 0.036538,
     "end_time": "2025-04-24T11:32:09.146500",
     "exception": false,
     "start_time": "2025-04-24T11:32:09.109962",
     "status": "completed"
    },
    "tags": []
   },
   "outputs": [
    {
     "data": {
      "text/plain": [
       "59"
      ]
     },
     "execution_count": 6,
     "metadata": {},
     "output_type": "execute_result"
    }
   ],
   "source": [
    "df.duplicated().sum()"
   ]
  },
  {
   "cell_type": "code",
   "execution_count": 7,
   "id": "6cfde92c",
   "metadata": {
    "papermill": {
     "duration": 0.030902,
     "end_time": "2025-04-24T11:32:09.182982",
     "exception": false,
     "start_time": "2025-04-24T11:32:09.152080",
     "status": "completed"
    },
    "tags": []
   },
   "outputs": [
    {
     "name": "stdout",
     "output_type": "stream",
     "text": [
      "<class 'pandas.core.frame.DataFrame'>\n",
      "RangeIndex: 15000 entries, 0 to 14999\n",
      "Data columns (total 11 columns):\n",
      " #   Column               Non-Null Count  Dtype \n",
      "---  ------               --------------  ----- \n",
      " 0   Followers            15000 non-null  int64 \n",
      " 1   Following            15000 non-null  int64 \n",
      " 2   Following/Followers  15000 non-null  object\n",
      " 3   Posts                15000 non-null  int64 \n",
      " 4   Posts/Followers      15000 non-null  object\n",
      " 5   Bio                  15000 non-null  object\n",
      " 6   Profile Picture      15000 non-null  object\n",
      " 7   External Link        15000 non-null  object\n",
      " 8   Mutual Friends       15000 non-null  int64 \n",
      " 9   Threads              15000 non-null  object\n",
      " 10  Labels               15000 non-null  object\n",
      "dtypes: int64(4), object(7)\n",
      "memory usage: 1.3+ MB\n"
     ]
    }
   ],
   "source": [
    "df.info()"
   ]
  },
  {
   "cell_type": "code",
   "execution_count": 8,
   "id": "ad4dcd19",
   "metadata": {
    "papermill": {
     "duration": 0.03361,
     "end_time": "2025-04-24T11:32:09.221987",
     "exception": false,
     "start_time": "2025-04-24T11:32:09.188377",
     "status": "completed"
    },
    "tags": []
   },
   "outputs": [
    {
     "data": {
      "text/html": [
       "<div>\n",
       "<style scoped>\n",
       "    .dataframe tbody tr th:only-of-type {\n",
       "        vertical-align: middle;\n",
       "    }\n",
       "\n",
       "    .dataframe tbody tr th {\n",
       "        vertical-align: top;\n",
       "    }\n",
       "\n",
       "    .dataframe thead th {\n",
       "        text-align: right;\n",
       "    }\n",
       "</style>\n",
       "<table border=\"1\" class=\"dataframe\">\n",
       "  <thead>\n",
       "    <tr style=\"text-align: right;\">\n",
       "      <th></th>\n",
       "      <th>Followers</th>\n",
       "      <th>Following</th>\n",
       "      <th>Posts</th>\n",
       "      <th>Mutual Friends</th>\n",
       "    </tr>\n",
       "  </thead>\n",
       "  <tbody>\n",
       "    <tr>\n",
       "      <th>count</th>\n",
       "      <td>15000.000000</td>\n",
       "      <td>15000.000000</td>\n",
       "      <td>15000.000000</td>\n",
       "      <td>15000.000000</td>\n",
       "    </tr>\n",
       "    <tr>\n",
       "      <th>mean</th>\n",
       "      <td>23397.378933</td>\n",
       "      <td>1385.350000</td>\n",
       "      <td>427.830200</td>\n",
       "      <td>3.011733</td>\n",
       "    </tr>\n",
       "    <tr>\n",
       "      <th>std</th>\n",
       "      <td>41920.419061</td>\n",
       "      <td>1600.823163</td>\n",
       "      <td>678.889037</td>\n",
       "      <td>4.203313</td>\n",
       "    </tr>\n",
       "    <tr>\n",
       "      <th>min</th>\n",
       "      <td>0.000000</td>\n",
       "      <td>0.000000</td>\n",
       "      <td>0.000000</td>\n",
       "      <td>0.000000</td>\n",
       "    </tr>\n",
       "    <tr>\n",
       "      <th>25%</th>\n",
       "      <td>6.000000</td>\n",
       "      <td>369.000000</td>\n",
       "      <td>1.000000</td>\n",
       "      <td>0.000000</td>\n",
       "    </tr>\n",
       "    <tr>\n",
       "      <th>50%</th>\n",
       "      <td>48.000000</td>\n",
       "      <td>725.500000</td>\n",
       "      <td>4.000000</td>\n",
       "      <td>0.000000</td>\n",
       "    </tr>\n",
       "    <tr>\n",
       "      <th>75%</th>\n",
       "      <td>19535.250000</td>\n",
       "      <td>1747.000000</td>\n",
       "      <td>578.250000</td>\n",
       "      <td>6.000000</td>\n",
       "    </tr>\n",
       "    <tr>\n",
       "      <th>max</th>\n",
       "      <td>163000.000000</td>\n",
       "      <td>6692.000000</td>\n",
       "      <td>2669.000000</td>\n",
       "      <td>15.000000</td>\n",
       "    </tr>\n",
       "  </tbody>\n",
       "</table>\n",
       "</div>"
      ],
      "text/plain": [
       "           Followers     Following         Posts  Mutual Friends\n",
       "count   15000.000000  15000.000000  15000.000000    15000.000000\n",
       "mean    23397.378933   1385.350000    427.830200        3.011733\n",
       "std     41920.419061   1600.823163    678.889037        4.203313\n",
       "min         0.000000      0.000000      0.000000        0.000000\n",
       "25%         6.000000    369.000000      1.000000        0.000000\n",
       "50%        48.000000    725.500000      4.000000        0.000000\n",
       "75%     19535.250000   1747.000000    578.250000        6.000000\n",
       "max    163000.000000   6692.000000   2669.000000       15.000000"
      ]
     },
     "execution_count": 8,
     "metadata": {},
     "output_type": "execute_result"
    }
   ],
   "source": [
    "df.describe()"
   ]
  },
  {
   "cell_type": "markdown",
   "id": "8d0de584",
   "metadata": {
    "papermill": {
     "duration": 0.004988,
     "end_time": "2025-04-24T11:32:09.232951",
     "exception": false,
     "start_time": "2025-04-24T11:32:09.227963",
     "status": "completed"
    },
    "tags": []
   },
   "source": [
    "# EDA"
   ]
  },
  {
   "cell_type": "code",
   "execution_count": 9,
   "id": "2163d423",
   "metadata": {
    "papermill": {
     "duration": 0.016499,
     "end_time": "2025-04-24T11:32:09.254687",
     "exception": false,
     "start_time": "2025-04-24T11:32:09.238188",
     "status": "completed"
    },
    "tags": []
   },
   "outputs": [
    {
     "data": {
      "text/plain": [
       "Labels\n",
       "Bot     3750\n",
       "Scam    3750\n",
       "Real    3750\n",
       "Spam    3750\n",
       "Name: count, dtype: int64"
      ]
     },
     "execution_count": 9,
     "metadata": {},
     "output_type": "execute_result"
    }
   ],
   "source": [
    "df['Labels'].value_counts()"
   ]
  },
  {
   "cell_type": "code",
   "execution_count": 10,
   "id": "62517de7",
   "metadata": {
    "papermill": {
     "duration": 0.303376,
     "end_time": "2025-04-24T11:32:09.564311",
     "exception": false,
     "start_time": "2025-04-24T11:32:09.260935",
     "status": "completed"
    },
    "tags": []
   },
   "outputs": [
    {
     "data": {
      "image/png": "[encoded data removed]",
      "text/plain": [
       "<Figure size 1000x500 with 1 Axes>"
      ]
     },
     "metadata": {},
     "output_type": "display_data"
    }
   ],
   "source": [
    "sns.set_style('whitegrid')\n",
    "plt.figure(figsize=(10,5))\n",
    "sns.countplot(x=df['Labels'],palette='Set2')\n",
    "plt.title('Labels Distribution', fontsize=15)\n",
    "plt.show()"
   ]
  },
  {
   "cell_type": "code",
   "execution_count": 11,
   "id": "43f6b26f",
   "metadata": {
    "papermill": {
     "duration": 0.31594,
     "end_time": "2025-04-24T11:32:09.886479",
     "exception": false,
     "start_time": "2025-04-24T11:32:09.570539",
     "status": "completed"
    },
    "tags": []
   },
   "outputs": [
    {
     "data": {
      "image/png": "[encoded data removed]",
      "text/plain": [
       "<Figure size 1000x500 with 1 Axes>"
      ]
     },
     "metadata": {},
     "output_type": "display_data"
    }
   ],
   "source": [
    "plt.figure(figsize=(10,5))\n",
    "sns.countplot(x=df['Profile Picture'], hue=df['Bio'])\n",
    "plt.title('Profile Picture vs Bio', fontsize=15)\n",
    "plt.show()"
   ]
  },
  {
   "cell_type": "code",
   "execution_count": 12,
   "id": "9b3ede84",
   "metadata": {
    "papermill": {
     "duration": 0.263232,
     "end_time": "2025-04-24T11:32:11.092033",
     "exception": false,
     "start_time": "2025-04-24T11:32:10.828801",
     "status": "completed"
    },
    "tags": []
   },
   "outputs": [
    {
     "data": {
      "image/png": "[encoded data removed]",
      "text/plain": [
       "<Figure size 1000x500 with 1 Axes>"
      ]
     },
     "metadata": {},
     "output_type": "display_data"
    }
   ],
   "source": [
    "plt.figure(figsize=(10,5))\n",
    "sns.countplot(x=df['Threads'], palette='copper',hue=df['Labels'])\n",
    "plt.title('Threads vs Labels', fontsize=15)\n",
    "plt.show()"
   ]
  },
  {
   "cell_type": "code",
   "execution_count": 13,
   "id": "c7a2cfd3",
   "metadata": {
    "papermill": {
     "duration": 1.009922,
     "end_time": "2025-04-24T11:32:12.115134",
     "exception": false,
     "start_time": "2025-04-24T11:32:11.105212",
     "status": "completed"
    },
    "tags": []
   },
   "outputs": [
    {
     "data": {
      "image/png": "[encoded data removed]",
      "text/plain": [
       "<Figure size 1400x1000 with 4 Axes>"
      ]
     },
     "metadata": {},
     "output_type": "display_data"
    }
   ],
   "source": [
    "df.hist(figsize=(14,10))\n",
    "plt.show()\n"
   ]
  },
  {
   "cell_type": "code",
   "execution_count": 14,
   "id": "2da7879d",
   "metadata": {
    "papermill": {
     "duration": 0.296112,
     "end_time": "2025-04-24T11:32:12.424910",
     "exception": false,
     "start_time": "2025-04-24T11:32:12.128798",
     "status": "completed"
    },
    "tags": []
   },
   "outputs": [
    {
     "data": {
      "image/png": "[encoded data removed]",
      "text/plain": [
       "<Figure size 1000x600 with 2 Axes>"
      ]
     },
     "metadata": {},
     "output_type": "display_data"
    }
   ],
   "source": [
    "plt.figure(figsize=(10,6))\n",
    "sns.heatmap(df.corr(numeric_only=True), annot=True, cmap='Blues')\n",
    "plt.show()"
   ]
  },
  {
   "cell_type": "code",
   "execution_count": 15,
   "id": "ddc437c8",
   "metadata": {
    "papermill": {
     "duration": 0.021461,
     "end_time": "2025-04-24T11:32:12.460166",
     "exception": false,
     "start_time": "2025-04-24T11:32:12.438705",
     "status": "completed"
    },
    "tags": []
   },
   "outputs": [
    {
     "data": {
      "text/plain": [
       "Index(['Followers', 'Following', 'Following/Followers', 'Posts',\n",
       "       'Posts/Followers', 'Bio', 'Profile Picture', 'External Link',\n",
       "       'Mutual Friends', 'Threads', 'Labels'],\n",
       "      dtype='object')"
      ]
     },
     "execution_count": 15,
     "metadata": {},
     "output_type": "execute_result"
    }
   ],
   "source": [
    "df.columns"
   ]
  },
  {
   "cell_type": "code",
   "execution_count": 16,
   "id": "be2d21f7",
   "metadata": {
    "papermill": {
     "duration": 0.023703,
     "end_time": "2025-04-24T11:32:12.499376",
     "exception": false,
     "start_time": "2025-04-24T11:32:12.475673",
     "status": "completed"
    },
    "tags": []
   },
   "outputs": [],
   "source": [
    "df.drop(['Following/Followers', 'Posts/Followers'], axis=1, inplace=True)"
   ]
  },
  {
   "cell_type": "code",
   "execution_count": 17,
   "id": "162a7f64",
   "metadata": {
    "papermill": {
     "duration": 0.779751,
     "end_time": "2025-04-24T11:32:13.293390",
     "exception": false,
     "start_time": "2025-04-24T11:32:12.513639",
     "status": "completed"
    },
    "tags": []
   },
   "outputs": [],
   "source": [
    "from sklearn.model_selection import train_test_split\n",
    "from sklearn.preprocessing import LabelEncoder\n",
    "from sklearn.linear_model import LogisticRegression\n",
    "from sklearn.ensemble import RandomForestClassifier, GradientBoostingClassifier\n",
    "from sklearn.tree import DecisionTreeClassifier\n",
    "from sklearn.svm import SVC\n",
    "from sklearn.neighbors import KNeighborsClassifier\n",
    "from sklearn.naive_bayes import GaussianNB\n",
    "from sklearn.metrics import accuracy_score, precision_score, confusion_matrix, f1_score, recall_score"
   ]
  },
  {
   "cell_type": "markdown",
   "id": "d6a0d0b7",
   "metadata": {
    "papermill": {
     "duration": 0.013288,
     "end_time": "2025-04-24T11:32:13.320509",
     "exception": false,
     "start_time": "2025-04-24T11:32:13.307221",
     "status": "completed"
    },
    "tags": []
   },
   "source": [
    "# Label Encoding"
   ]
  },
  {
   "cell_type": "code",
   "execution_count": 18,
   "id": "71501b1b",
   "metadata": {
    "papermill": {
     "duration": 0.040879,
     "end_time": "2025-04-24T11:32:13.377007",
     "exception": false,
     "start_time": "2025-04-24T11:32:13.336128",
     "status": "completed"
    },
    "tags": []
   },
   "outputs": [],
   "source": [
    "le = LabelEncoder()\n",
    "for k in ['Bio', 'Profile Picture',\n",
    "       'External Link', 'Threads', 'Labels']:\n",
    "    df[k] = le.fit_transform(df[k])"
   ]
  },
  {
   "cell_type": "code",
   "execution_count": 19,
   "id": "a7287bba",
   "metadata": {
    "papermill": {
     "duration": 0.030895,
     "end_time": "2025-04-24T11:32:13.422929",
     "exception": false,
     "start_time": "2025-04-24T11:32:13.392034",
     "status": "completed"
    },
    "tags": []
   },
   "outputs": [
    {
     "name": "stdout",
     "output_type": "stream",
     "text": [
      "X_train Shape: (10500, 8)\n",
      "Y_train Shape: (10500,)\n",
      "X_test Shape: (4500, 8)\n",
      "y_test Shape: (4500,)\n"
     ]
    }
   ],
   "source": [
    "X = df.drop('Labels', axis=1)\n",
    "y = df['Labels']\n",
    "\n",
    "X_train,X_test, y_train,y_test = train_test_split(X,y , test_size=0.3)\n",
    "print(f\"X_train Shape: {X_train.shape}\")\n",
    "print(f\"Y_train Shape: {y_train.shape}\")\n",
    "print(f\"X_test Shape: {X_test.shape}\")\n",
    "print(f\"y_test Shape: {y_test.shape}\")"
   ]
  },
  {
   "cell_type": "markdown",
   "id": "62e42b9f",
   "metadata": {
    "papermill": {
     "duration": 0.013389,
     "end_time": "2025-04-24T11:32:13.450331",
     "exception": false,
     "start_time": "2025-04-24T11:32:13.436942",
     "status": "completed"
    },
    "tags": []
   },
   "source": [
    "# Models Building"
   ]
  },
  {
   "cell_type": "code",
   "execution_count": 20,
   "id": "2189fb50",
   "metadata": {
    "papermill": {
     "duration": 0.021759,
     "end_time": "2025-04-24T11:32:13.485759",
     "exception": false,
     "start_time": "2025-04-24T11:32:13.464000",
     "status": "completed"
    },
    "tags": []
   },
   "outputs": [],
   "source": [
    "models = {\n",
    "    \"Logistic Regression\": LogisticRegression(),\n",
    "    \"Random Forest\": RandomForestClassifier(),\n",
    "    \"Gradient Boosting\": GradientBoostingClassifier(),\n",
    "    \"SVM\": SVC(),\n",
    "    \"K-Nearest Neighbors\": KNeighborsClassifier(),\n",
    "    \"Naive Bayes\": GaussianNB(),\n",
    "    \"Decision Tree\": DecisionTreeClassifier()\n",
    "}"
   ]
  },
  {
   "cell_type": "code",
   "execution_count": 21,
   "id": "f27a2d3b",
   "metadata": {
    "papermill": {
     "duration": 10.922089,
     "end_time": "2025-04-24T11:32:24.423381",
     "exception": false,
     "start_time": "2025-04-24T11:32:13.501292",
     "status": "completed"
    },
    "tags": []
   },
   "outputs": [
    {
     "name": "stdout",
     "output_type": "stream",
     "text": [
      "\n",
      "Name: Logistic Regression\n",
      "Accuracy: 89.24\n",
      "Precision Score: 0.9050738814635845\n",
      "\n",
      "Name: Random Forest\n",
      "Accuracy: 97.96\n",
      "Precision Score: 0.9798509666496059\n",
      "\n",
      "Name: Gradient Boosting\n",
      "Accuracy: 98.16\n",
      "Precision Score: 0.9819867398620278\n",
      "\n",
      "Name: SVM\n",
      "Accuracy: 89.82\n",
      "Precision Score: 0.9134150576784712\n",
      "\n",
      "Name: K-Nearest Neighbors\n",
      "Accuracy: 95.98\n",
      "Precision Score: 0.960415092736062\n",
      "\n",
      "Name: Naive Bayes\n",
      "Accuracy: 96.73\n",
      "Precision Score: 0.9676414173554202\n",
      "\n",
      "Name: Decision Tree\n",
      "Accuracy: 97.47\n",
      "Precision Score: 0.974740721216451\n",
      "\n",
      " 📊 Summary:\n"
     ]
    },
    {
     "data": {
      "text/html": [
       "<div>\n",
       "<style scoped>\n",
       "    .dataframe tbody tr th:only-of-type {\n",
       "        vertical-align: middle;\n",
       "    }\n",
       "\n",
       "    .dataframe tbody tr th {\n",
       "        vertical-align: top;\n",
       "    }\n",
       "\n",
       "    .dataframe thead th {\n",
       "        text-align: right;\n",
       "    }\n",
       "</style>\n",
       "<table border=\"1\" class=\"dataframe\">\n",
       "  <thead>\n",
       "    <tr style=\"text-align: right;\">\n",
       "      <th></th>\n",
       "      <th>Models</th>\n",
       "      <th>Test Accuracy</th>\n",
       "      <th>Test Precision</th>\n",
       "      <th>Test Recall Score</th>\n",
       "      <th>Test F1 Score</th>\n",
       "    </tr>\n",
       "  </thead>\n",
       "  <tbody>\n",
       "    <tr>\n",
       "      <th>0</th>\n",
       "      <td>Logistic Regression</td>\n",
       "      <td>89.244444</td>\n",
       "      <td>0.905074</td>\n",
       "      <td>0.892548</td>\n",
       "      <td>0.890433</td>\n",
       "    </tr>\n",
       "    <tr>\n",
       "      <th>1</th>\n",
       "      <td>Random Forest</td>\n",
       "      <td>97.955556</td>\n",
       "      <td>0.979851</td>\n",
       "      <td>0.979790</td>\n",
       "      <td>0.979629</td>\n",
       "    </tr>\n",
       "    <tr>\n",
       "      <th>2</th>\n",
       "      <td>Gradient Boosting</td>\n",
       "      <td>98.155556</td>\n",
       "      <td>0.981987</td>\n",
       "      <td>0.981817</td>\n",
       "      <td>0.981626</td>\n",
       "    </tr>\n",
       "    <tr>\n",
       "      <th>3</th>\n",
       "      <td>SVM</td>\n",
       "      <td>89.822222</td>\n",
       "      <td>0.913415</td>\n",
       "      <td>0.897310</td>\n",
       "      <td>0.897952</td>\n",
       "    </tr>\n",
       "    <tr>\n",
       "      <th>4</th>\n",
       "      <td>K-Nearest Neighbors</td>\n",
       "      <td>95.977778</td>\n",
       "      <td>0.960415</td>\n",
       "      <td>0.959770</td>\n",
       "      <td>0.959911</td>\n",
       "    </tr>\n",
       "    <tr>\n",
       "      <th>5</th>\n",
       "      <td>Naive Bayes</td>\n",
       "      <td>96.733333</td>\n",
       "      <td>0.967641</td>\n",
       "      <td>0.967393</td>\n",
       "      <td>0.967459</td>\n",
       "    </tr>\n",
       "    <tr>\n",
       "      <th>6</th>\n",
       "      <td>Decision Tree</td>\n",
       "      <td>97.466667</td>\n",
       "      <td>0.974741</td>\n",
       "      <td>0.974763</td>\n",
       "      <td>0.974750</td>\n",
       "    </tr>\n",
       "  </tbody>\n",
       "</table>\n",
       "</div>"
      ],
      "text/plain": [
       "                Models  Test Accuracy  Test Precision  Test Recall Score  \\\n",
       "0  Logistic Regression      89.244444        0.905074           0.892548   \n",
       "1        Random Forest      97.955556        0.979851           0.979790   \n",
       "2    Gradient Boosting      98.155556        0.981987           0.981817   \n",
       "3                  SVM      89.822222        0.913415           0.897310   \n",
       "4  K-Nearest Neighbors      95.977778        0.960415           0.959770   \n",
       "5          Naive Bayes      96.733333        0.967641           0.967393   \n",
       "6        Decision Tree      97.466667        0.974741           0.974763   \n",
       "\n",
       "   Test F1 Score  \n",
       "0       0.890433  \n",
       "1       0.979629  \n",
       "2       0.981626  \n",
       "3       0.897952  \n",
       "4       0.959911  \n",
       "5       0.967459  \n",
       "6       0.974750  "
      ]
     },
     "execution_count": 21,
     "metadata": {},
     "output_type": "execute_result"
    }
   ],
   "source": [
    "end = []\n",
    "for names, model in models.items():\n",
    "    model.fit(X_train, y_train)\n",
    "    preds = model.predict(X_test)\n",
    "    acc = accuracy_score(y_test, preds)*100\n",
    "    prec = precision_score(y_test, preds, average='macro')\n",
    "    recal = recall_score(y_test, preds, average='macro')\n",
    "    f1 = f1_score(y_test, preds,  average='macro')\n",
    "    \n",
    "    \n",
    "    \n",
    "    print(f\"\\nName: {names}\")\n",
    "    print(f\"Accuracy: {acc:.2f}\")   \n",
    "    print(f\"Precision Score: {prec}\")\n",
    "    \n",
    "    end.append({\n",
    "        'Models': names,\n",
    "        'Test Accuracy': acc,\n",
    "        'Test Precision': prec,\n",
    "        'Test Recall Score': recal,\n",
    "        'Test F1 Score': f1\n",
    "        \n",
    "    })\n",
    "    summary_df = pd.DataFrame(end)\n",
    "\n",
    "# Show all model evaluation metrics in one table\n",
    "print(\"\\n 📊 Summary:\")\n",
    "summary_df   "
   ]
  }
 ],
 "metadata": {
  "kaggle": {
   "accelerator": "none",
   "dataSources": [
    {
     "datasetId": 7164608,
     "sourceId": 11437885,
     "sourceType": "datasetVersion"
    }
   ],
   "dockerImageVersionId": 31012,
   "isGpuEnabled": false,
   "isInternetEnabled": true,
   "language": "python",
   "sourceType": "notebook"
  },
  "kernelspec": {
   "display_name": "Python 3 (ipykernel)",
   "language": "python",
   "name": "python3"
  },
  "language_info": {
   "codemirror_mode": {
    "name": "ipython",
    "version": 3
   },
   "file_extension": ".py",
   "mimetype": "text/x-python",
   "name": "python",
   "nbconvert_exporter": "python",
   "pygments_lexer": "ipython3",
   "version": "3.12.4"
  },
  "papermill": {
   "default_parameters": {},
   "duration": 25.873104,
   "end_time": "2025-04-24T11:32:25.602853",
   "environment_variables": {},
   "exception": null,
   "input_path": "__notebook__.ipynb",
   "output_path": "__notebook__.ipynb",
   "parameters": {},
   "start_time": "2025-04-24T11:31:59.729749",
   "version": "2.6.0"
  }
 },
 "nbformat": 4,
 "nbformat_minor": 5
}
